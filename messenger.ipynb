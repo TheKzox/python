{
  "nbformat": 4,
  "nbformat_minor": 0,
  "metadata": {
    "colab": {
      "provenance": [],
      "authorship_tag": "ABX9TyO1lzbh7K963wWxSi/jw6nR",
      "include_colab_link": true
    },
    "kernelspec": {
      "name": "python3",
      "display_name": "Python 3"
    },
    "language_info": {
      "name": "python"
    }
  },
  "cells": [
    {
      "cell_type": "markdown",
      "metadata": {
        "id": "view-in-github",
        "colab_type": "text"
      },
      "source": [
        "<a href=\"https://colab.research.google.com/github/TheKzox/python/blob/main/messenger.ipynb\" target=\"_parent\"><img src=\"https://colab.research.google.com/assets/colab-badge.svg\" alt=\"Open In Colab\"/></a>"
      ]
    },
    {
      "cell_type": "code",
      "execution_count": null,
      "metadata": {
        "id": "jZZhgVABFLTE",
        "colab": {
          "base_uri": "https://localhost:8080/",
          "height": 106
        },
        "outputId": "17cf21b4-f91c-436c-eee3-45ace91227c9"
      },
      "outputs": [
        {
          "output_type": "error",
          "ename": "SyntaxError",
          "evalue": "f-string: unmatched '(' (<ipython-input-4-11334cdf184e>, line 6)",
          "traceback": [
            "\u001b[0;36m  File \u001b[0;32m\"<ipython-input-4-11334cdf184e>\"\u001b[0;36m, line \u001b[0;32m6\u001b[0m\n\u001b[0;31m    message = f'User1: {input('enter your message: ')}'\u001b[0m\n\u001b[0m                               ^\u001b[0m\n\u001b[0;31mSyntaxError\u001b[0m\u001b[0;31m:\u001b[0m f-string: unmatched '('\n"
          ]
        }
      ],
      "source": [
        "import socket\n",
        "\n",
        "with socket.socket(socket.AF_INET, socket.SOCK_STREAM) as s:\n",
        "    s.connect(('127.0.0.1', 12124))\n",
        "    while True:\n",
        "        message = f'User1: {input('enter your message: ')}'\n",
        "        s.sendall(message.encode())\n",
        "        data = s.recv(1024)\n",
        "        print(data.decode())\n"
      ]
    },
    {
      "cell_type": "code",
      "source": [
        "import socket\n",
        "\n",
        "with socket.socket(socket.AF_INET, socket.SOCK_STREAM) as s:\n",
        "    s.bind(('127.0.0.1', 12124))\n",
        "    s.listen()\n",
        "    while True:\n",
        "        connection, address = s.accept()\n",
        "        with connection:\n",
        "            print(f'connected to {address}.')\n",
        "            while True:\n",
        "                data = connection.recv(1024)\n",
        "                if not data:\n",
        "                    break\n",
        "                print(data.decode())\n",
        "                message = f'User2: {input('enter your message: ')}'\n",
        "                if message == 0:\n",
        "                    break\n",
        "                connection.sendall(message.encode())\n"
      ],
      "metadata": {
        "id": "91Re5ShiFUvV",
        "colab": {
          "base_uri": "https://localhost:8080/",
          "height": 106
        },
        "outputId": "65d8566e-5b83-4bf2-db17-ba42c3f46304"
      },
      "execution_count": null,
      "outputs": [
        {
          "output_type": "error",
          "ename": "SyntaxError",
          "evalue": "f-string: unmatched '(' (<ipython-input-3-baa3486a83d9>, line 15)",
          "traceback": [
            "\u001b[0;36m  File \u001b[0;32m\"<ipython-input-3-baa3486a83d9>\"\u001b[0;36m, line \u001b[0;32m15\u001b[0m\n\u001b[0;31m    message = f'User2: {input('enter your message: ')}'\u001b[0m\n\u001b[0m                               ^\u001b[0m\n\u001b[0;31mSyntaxError\u001b[0m\u001b[0;31m:\u001b[0m f-string: unmatched '('\n"
          ]
        }
      ]
    }
  ]
}